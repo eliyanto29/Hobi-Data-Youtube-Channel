{
  "nbformat": 4,
  "nbformat_minor": 0,
  "metadata": {
    "colab": {
      "name": "Tuple dan Set pada Python",
      "provenance": [],
      "collapsed_sections": [],
      "include_colab_link": true
    },
    "kernelspec": {
      "name": "python3",
      "display_name": "Python 3"
    }
  },
  "cells": [
    {
      "cell_type": "markdown",
      "metadata": {
        "id": "view-in-github",
        "colab_type": "text"
      },
      "source": [
        "<a href=\"https://colab.research.google.com/github/eliyanto29/Hobi-Data-Youtube-Channel/blob/main/Tuple_dan_Set_pada_Python.ipynb\" target=\"_parent\"><img src=\"https://colab.research.google.com/assets/colab-badge.svg\" alt=\"Open In Colab\"/></a>"
      ]
    },
    {
      "cell_type": "markdown",
      "metadata": {
        "id": "CJAVE2iD5kmH"
      },
      "source": [
        "![alt text](https://drive.google.com/uc?id=1ehGvcot3YVkUs1GSvSR-80vszZ7uymDi\n",
        ")"
      ]
    },
    {
      "cell_type": "markdown",
      "metadata": {
        "id": "ZQVQXJqGNmSm"
      },
      "source": [
        "Assalamualaikum warahmatullahi wabarakatuh.\n",
        "\n",
        "***Robbi Zidni Ilma Warzuqni Fahma***\n",
        "\n",
        "Semoga Allah memberi kemudahan untuk kita memperoleh ilmu yang bermanfaat.\n",
        "\n",
        "\n",
        "## **Hasil Yang Ingin Dicapai**\n",
        "1. Memahami Tuple Pada Python\n",
        "2. Memahami Set Pada Python\n",
        "3. Mengenal dan memahami method-method pada Tuple Python\n",
        "4. Mengenal dan memahami method-method pada Set Python\n",
        "\n",
        "### ***!!!***\n",
        "\n",
        "***Sebelum memulai mempelajari notebook ini, jangan lupa untuk menyalinnya di drive masing-masing ya.***\n",
        "\n",
        "### ***!!!***\n"
      ]
    },
    {
      "cell_type": "markdown",
      "metadata": {
        "id": "bIZ1iVbz3eYK"
      },
      "source": [
        "# **Tuple**"
      ]
    },
    {
      "cell_type": "markdown",
      "metadata": {
        "id": "pjnk287j311K"
      },
      "source": [
        "## Tuple pada Python"
      ]
    },
    {
      "cell_type": "markdown",
      "metadata": {
        "id": "sKPSVbHe3j_0"
      },
      "source": [
        "Tuple dalam Python adalah stuktur data yang digunakan untuk menyimpan sekumpulan data. Tuple bersifat immutable, artinya isi tuple tidak bisa kita ubah dan hapus. Tuple didefinisikan dengan kurung dan elemen yang dipisahkan dengan koma."
      ]
    },
    {
      "cell_type": "code",
      "metadata": {
        "id": "Ib3Ry3jf4PPU",
        "outputId": "d8649e4c-87b2-4dbe-f5fe-5f536a9983c2",
        "colab": {
          "base_uri": "https://localhost:8080/",
          "height": 34
        }
      },
      "source": [
        "#Contoh Tuple\n",
        "tuple1 = ('matematika', 'UAD', 2020)\n",
        "tuple1"
      ],
      "execution_count": null,
      "outputs": [
        {
          "output_type": "execute_result",
          "data": {
            "text/plain": [
              "('matematika', 'UAD', 2020)"
            ]
          },
          "metadata": {
            "tags": []
          },
          "execution_count": 3
        }
      ]
    },
    {
      "cell_type": "code",
      "metadata": {
        "id": "FKm4w-b_-y-b"
      },
      "source": [
        "#sekarang giliran kamu mencoba\n",
        "\n",
        "\n",
        "\n",
        "\n"
      ],
      "execution_count": null,
      "outputs": []
    },
    {
      "cell_type": "markdown",
      "metadata": {
        "id": "8ijOF7MC3qaY"
      },
      "source": [
        "### Akses Nilai dalam tuple set\n",
        "Untuk mengakses nilai dalam tuple, gunakan tanda kurung siku untuk mendapatkan nilai yang tersedia pada indeks tersebut.    \n",
        "\n"
      ]
    },
    {
      "cell_type": "code",
      "metadata": {
        "id": "5MG3sPbi8muy",
        "outputId": "89717748-f01a-464f-c11d-c9a564092187",
        "colab": {
          "base_uri": "https://localhost:8080/",
          "height": 51
        }
      },
      "source": [
        "#contoh\n",
        "print(tuple1[1])\n",
        "print(tuple1[-1])"
      ],
      "execution_count": null,
      "outputs": [
        {
          "output_type": "stream",
          "text": [
            "UAD\n",
            "2020\n"
          ],
          "name": "stdout"
        }
      ]
    },
    {
      "cell_type": "code",
      "metadata": {
        "id": "H534pMnQ9ldu",
        "outputId": "4cf6d400-6ae8-47aa-b2cd-b054e93e2147",
        "colab": {
          "base_uri": "https://localhost:8080/",
          "height": 34
        }
      },
      "source": [
        "print(tuple1[0:2])"
      ],
      "execution_count": null,
      "outputs": [
        {
          "output_type": "stream",
          "text": [
            "('matematika', 'UAD')\n"
          ],
          "name": "stdout"
        }
      ]
    },
    {
      "cell_type": "code",
      "metadata": {
        "id": "w21FezbB-9Uq"
      },
      "source": [
        "#sekarang giliran kamu mencoba\n",
        "\n",
        "\n"
      ],
      "execution_count": null,
      "outputs": []
    },
    {
      "cell_type": "markdown",
      "metadata": {
        "id": "cU1VsnqEJfbf"
      },
      "source": [
        "### Merubah Elemen Bagian Tuple"
      ]
    },
    {
      "cell_type": "code",
      "metadata": {
        "id": "PLpIvGN6-Lpc",
        "outputId": "8cff99dc-ab5e-44cc-8a5b-66a551c863aa",
        "colab": {
          "base_uri": "https://localhost:8080/",
          "height": 129
        }
      },
      "source": [
        "print(tuple1[1]=10) "
      ],
      "execution_count": null,
      "outputs": [
        {
          "output_type": "error",
          "ename": "SyntaxError",
          "evalue": "ignored",
          "traceback": [
            "\u001b[0;36m  File \u001b[0;32m\"<ipython-input-9-27a42bf3e4f6>\"\u001b[0;36m, line \u001b[0;32m1\u001b[0m\n\u001b[0;31m    print(tuple1[1]=10)\u001b[0m\n\u001b[0m         ^\u001b[0m\n\u001b[0;31mSyntaxError\u001b[0m\u001b[0;31m:\u001b[0m keyword can't be an expression\n"
          ]
        }
      ]
    },
    {
      "cell_type": "markdown",
      "metadata": {
        "id": "5_jH2oWM-dgr"
      },
      "source": [
        "MENGAPA ERROR ?\n",
        "ini dikarenakan tuple bersifat immutable, artinya isi dari tuple tidak bisa kita ubah dan tidak bisa dihapus."
      ]
    },
    {
      "cell_type": "markdown",
      "metadata": {
        "id": "1jsqVSkTDDWr"
      },
      "source": [
        "### Mengetahui panjang elemen tuple\n",
        "dengan meggunakan len()\n",
        "\n"
      ]
    },
    {
      "cell_type": "code",
      "metadata": {
        "id": "THFwKhaUCvbv",
        "outputId": "94b4eba3-5b55-4947-c7fa-5556b0b3b8e0",
        "colab": {
          "base_uri": "https://localhost:8080/",
          "height": 34
        }
      },
      "source": [
        "print(len(tuple1))"
      ],
      "execution_count": null,
      "outputs": [
        {
          "output_type": "stream",
          "text": [
            "3\n"
          ],
          "name": "stdout"
        }
      ]
    },
    {
      "cell_type": "code",
      "metadata": {
        "id": "d2qc5YkP_HTY"
      },
      "source": [
        "#sekarang giliran kamu mencoba\n",
        "\n",
        "\n"
      ],
      "execution_count": null,
      "outputs": []
    },
    {
      "cell_type": "markdown",
      "metadata": {
        "id": "TBYPCJgYIRDx"
      },
      "source": [
        "# **Set**\n",
        "\n"
      ]
    },
    {
      "cell_type": "markdown",
      "metadata": {
        "id": "xisXmNGk7Ffi"
      },
      "source": [
        "## Set pada Python\n",
        "\n",
        "Set adalah kumpulan item bersifat unik dan tanpa urutan (unordered collection). Didefinisikan dengan kurawal dan elemennya dipisahkan dengan koma. Pada Set kita dapat melakukan union dan intersection, sekaligus otomatis melakukan penghapusan data duplikat."
      ]
    },
    {
      "cell_type": "code",
      "metadata": {
        "id": "NnsT0LKsIVJQ",
        "outputId": "62be2787-298f-403c-e662-7848164ed96d",
        "colab": {
          "base_uri": "https://localhost:8080/",
          "height": 52
        }
      },
      "source": [
        "#contoh\n",
        "B={'kucing', 'aku', 'bintang'} #string\n",
        "print(B)\n",
        "\n",
        "\n",
        "#contoh\n",
        "C = {7,1,9,3} #integer\n",
        "print(C)"
      ],
      "execution_count": null,
      "outputs": [
        {
          "output_type": "stream",
          "text": [
            "{'kucing', 'bintang', 'aku'}\n",
            "{1, 3, 9, 7}\n"
          ],
          "name": "stdout"
        }
      ]
    },
    {
      "cell_type": "code",
      "metadata": {
        "id": "s7577Zkg_V3t"
      },
      "source": [
        "#sekarang giliran kamu mencoba\n",
        "\n",
        "\n",
        "\n",
        "\n"
      ],
      "execution_count": null,
      "outputs": []
    },
    {
      "cell_type": "markdown",
      "metadata": {
        "id": "GD3pQeGmIaxo"
      },
      "source": [
        "### Merubah Elemen Bagian Set.\n",
        "Pada set tidak dapat dilakukan perubahan pada indeks elemennya, tetapi dapat ditambah."
      ]
    },
    {
      "cell_type": "code",
      "metadata": {
        "id": "I5V4CCs8IqLu",
        "outputId": "1f0fdcb2-a923-4204-8905-bbaa3a1559ec",
        "colab": {
          "base_uri": "https://localhost:8080/",
          "height": 34
        }
      },
      "source": [
        "#contoh\n",
        "buah = {\"apple\", \"banana\", \"cherry\"}\n",
        "\n",
        "buah.add(\"orange\")\n",
        "\n",
        "print(buah)"
      ],
      "execution_count": null,
      "outputs": [
        {
          "output_type": "stream",
          "text": [
            "{'apple', 'banana', 'cherry', 'orange'}\n"
          ],
          "name": "stdout"
        }
      ]
    },
    {
      "cell_type": "code",
      "metadata": {
        "id": "y98Va-JW_OOn"
      },
      "source": [
        "#sekarang giliran kamu mencoba\n",
        "\n",
        "\n",
        "\n"
      ],
      "execution_count": null,
      "outputs": []
    },
    {
      "cell_type": "markdown",
      "metadata": {
        "id": "9GIL9z1GI0hS"
      },
      "source": [
        "Jika ingin menambahkan banyak anggota lagi, maka ditambahkan dengan .update"
      ]
    },
    {
      "cell_type": "code",
      "metadata": {
        "id": "4aL0_HkeI3W8",
        "outputId": "21760ca6-26b2-4121-a22a-a8abf286e37f",
        "colab": {
          "base_uri": "https://localhost:8080/",
          "height": 34
        }
      },
      "source": [
        "#contoh\n",
        "Binatang = {'kucing', 'serigala', 'kambing', 'ayam', 'burung',}\n",
        "Binatang.update(['harimau', 'kucing', 'sapi', 'ikan'])\n",
        "print(Binatang)"
      ],
      "execution_count": null,
      "outputs": [
        {
          "output_type": "stream",
          "text": [
            "{'kambing', 'ayam', 'burung', 'sapi', 'harimau', 'serigala', 'kucing', 'ikan'}\n"
          ],
          "name": "stdout"
        }
      ]
    },
    {
      "cell_type": "code",
      "metadata": {
        "id": "zKu_9rmd_gOq"
      },
      "source": [
        "#sekarang giliran kamu mencoba\n",
        "\n",
        "\n",
        "\n"
      ],
      "execution_count": null,
      "outputs": []
    },
    {
      "cell_type": "markdown",
      "metadata": {
        "id": "BRsrp5C3I-Vp"
      },
      "source": [
        "### Menghapus satu anggota set\n",
        "Menghapus satu anggota pada set menggunakan remove().\n",
        "\n"
      ]
    },
    {
      "cell_type": "code",
      "metadata": {
        "id": "hkMaHsY4JEOk",
        "outputId": "8748c362-8173-4350-9d80-a78694b2cd6b",
        "colab": {
          "base_uri": "https://localhost:8080/",
          "height": 34
        }
      },
      "source": [
        "#contoh\n",
        "Y = {\"apple\", \"banana\", \"cherry\"}\n",
        "Y.remove(\"banana\") #dengan menggunakan remove\n",
        "print(Y)\n"
      ],
      "execution_count": null,
      "outputs": [
        {
          "output_type": "stream",
          "text": [
            "{'apple', 'cherry'}\n"
          ],
          "name": "stdout"
        }
      ]
    },
    {
      "cell_type": "code",
      "metadata": {
        "id": "Pk2ov03U_jik"
      },
      "source": [
        "#sekarang giliran kamu mencoba\n",
        "\n",
        "\n",
        "\n"
      ],
      "execution_count": null,
      "outputs": []
    },
    {
      "cell_type": "markdown",
      "metadata": {
        "id": "fkXAh7qbJJ6r"
      },
      "source": [
        "### Mengetahui panjang elemen\n",
        "untuk mengetahui berapa banyak elemen pada set, gunakan metode len()"
      ]
    },
    {
      "cell_type": "code",
      "metadata": {
        "id": "cfCc31xPJOXB",
        "outputId": "e1ddd4db-10ac-4383-fd0b-c6efcef7e122",
        "colab": {
          "base_uri": "https://localhost:8080/",
          "height": 34
        }
      },
      "source": [
        "#contoh\n",
        "buah = {\"anggur\",\"leci\", \"pisang\", \"duku\"}\n",
        "\n",
        "print(len(buah))"
      ],
      "execution_count": null,
      "outputs": [
        {
          "output_type": "stream",
          "text": [
            "4\n"
          ],
          "name": "stdout"
        }
      ]
    },
    {
      "cell_type": "code",
      "metadata": {
        "id": "xXqvZo9F_myJ"
      },
      "source": [
        "#sekarang giliran kamu mencoba\n",
        "\n",
        "\n",
        "\n"
      ],
      "execution_count": null,
      "outputs": []
    },
    {
      "cell_type": "markdown",
      "metadata": {
        "id": "uaO8hyypJRsW"
      },
      "source": [
        "### Mengambil sebagian elemen\n",
        "Karena set bersifat unordered, maka kita tidak bisa mengambil sebagian data / elemen datanya menggunakan proses slicing.\n"
      ]
    },
    {
      "cell_type": "code",
      "metadata": {
        "id": "9mHnmLzOJSaj"
      },
      "source": [
        "#contoh\n",
        "\n",
        "buah = {\"anggur\",\"leci\", \"pisang\", \"duku\"}\n",
        "print(buah[2]) #hayo kenapa eror"
      ],
      "execution_count": null,
      "outputs": []
    },
    {
      "cell_type": "markdown",
      "metadata": {
        "id": "KqvwBAJJNhFP"
      },
      "source": [
        "## Metode Pada Set\n"
      ]
    },
    {
      "cell_type": "markdown",
      "metadata": {
        "id": "a3AHGS1w713k"
      },
      "source": [
        "### Intersection()\n",
        "\n",
        "Metode ini berfungsi untuk menghitung irisan dari dua buah himpunan atau lebih.\n",
        "\n"
      ]
    },
    {
      "cell_type": "code",
      "metadata": {
        "id": "azMEmkDg8FOF",
        "outputId": "281e9b8a-670b-49fe-fc90-2ed3a832302d",
        "colab": {
          "base_uri": "https://localhost:8080/",
          "height": 34
        }
      },
      "source": [
        "x = {\"matematika\", \"fisika\", \"biologi\"}\n",
        "y = {\"matematika\", \"kimia\", \"astronomi\"}\n",
        "\n",
        "z = x.intersection(y)\n",
        "\n",
        "print(z)"
      ],
      "execution_count": null,
      "outputs": [
        {
          "output_type": "stream",
          "text": [
            "{'matematika'}\n"
          ],
          "name": "stdout"
        }
      ]
    },
    {
      "cell_type": "code",
      "metadata": {
        "id": "USUoqTZi8R0E"
      },
      "source": [
        "#sekarang giliran kamu mencoba\n",
        "\n",
        "\n"
      ],
      "execution_count": null,
      "outputs": []
    },
    {
      "cell_type": "markdown",
      "metadata": {
        "id": "Uus8Y4nhJPdV"
      },
      "source": [
        "### discard()\n",
        "Metode ini berfungsi untuk menghapus satu anggota dari set."
      ]
    },
    {
      "cell_type": "code",
      "metadata": {
        "id": "nh8EY94pJNuz",
        "outputId": "65298b2d-58f7-49d8-aeeb-c2cea3aad403",
        "colab": {
          "base_uri": "https://localhost:8080/",
          "height": 34
        }
      },
      "source": [
        "X= {\"apel\", \"pir\", \"mangga\", \"manggis\"}\n",
        "X.discard(\"pir\")  #dengan menggunakan discard\n",
        "print(X)"
      ],
      "execution_count": null,
      "outputs": [
        {
          "output_type": "stream",
          "text": [
            "{'mangga', 'apel', 'manggis'}\n"
          ],
          "name": "stdout"
        }
      ]
    },
    {
      "cell_type": "code",
      "metadata": {
        "id": "woHxKBoRJa3G"
      },
      "source": [
        "#sekarang giliran kamu mencoba\n",
        "\n"
      ],
      "execution_count": null,
      "outputs": []
    },
    {
      "cell_type": "markdown",
      "metadata": {
        "id": "wzJPFNo6mQBd"
      },
      "source": [
        "### union()\n",
        "Metode ini berfungsi untuk mengembalikan satu set baru dengan semua item dari kedua set. Menggabungkan set anggota yang ada pada A dan B."
      ]
    },
    {
      "cell_type": "code",
      "metadata": {
        "id": "bv88KEc_m0e9",
        "outputId": "1bf26f1b-5026-4b14-8e79-bf32059d0c8d",
        "colab": {
          "base_uri": "https://localhost:8080/",
          "height": 34
        }
      },
      "source": [
        "#contoh\n",
        "buah1 = {\"Apel\", \"Pisang\", \"Mangga\"}\n",
        "buah2 = {\"Melon\", \"Semangka\", \"Jeruk\"}\n",
        "\n",
        "buah3 = buah1.union(buah2)\n",
        "print(buah3)"
      ],
      "execution_count": null,
      "outputs": [
        {
          "output_type": "stream",
          "text": [
            "{'Jeruk', 'Semangka', 'Pisang', 'Apel', 'Melon', 'Mangga'}\n"
          ],
          "name": "stdout"
        }
      ]
    },
    {
      "cell_type": "code",
      "metadata": {
        "id": "LcrVQ6Elqjx4"
      },
      "source": [
        "#sekarang giliran kamu mencoba\n",
        "\n",
        "\n"
      ],
      "execution_count": null,
      "outputs": []
    },
    {
      "cell_type": "markdown",
      "metadata": {
        "id": "DbTQMZdwqgDi"
      },
      "source": [
        "### clear()\n",
        " Metode ini berfungsi untuk menghapus semua elemen dari set."
      ]
    },
    {
      "cell_type": "code",
      "metadata": {
        "id": "61ePccaZrKjn",
        "outputId": "1d70386a-a6c8-43ea-f54e-98a777af57f1",
        "colab": {
          "base_uri": "https://localhost:8080/",
          "height": 34
        }
      },
      "source": [
        "#contoh\n",
        "benda = {\"Meja\", \"Kursi\", \"Lemari\"}\n",
        "\n",
        "benda.clear()\n",
        "print(benda)"
      ],
      "execution_count": null,
      "outputs": [
        {
          "output_type": "stream",
          "text": [
            "set()\n"
          ],
          "name": "stdout"
        }
      ]
    },
    {
      "cell_type": "code",
      "metadata": {
        "id": "II7NuwBFr3Ay"
      },
      "source": [
        "#sekarang giliran kamu mencoba\n",
        "\n",
        "\n"
      ],
      "execution_count": null,
      "outputs": []
    },
    {
      "cell_type": "markdown",
      "metadata": {
        "id": "94QKmB9dr-NN"
      },
      "source": [
        "### pop()\n",
        "Metode ini berfungsi untuk menghapus elemen dari set."
      ]
    },
    {
      "cell_type": "code",
      "metadata": {
        "id": "aqyAcINAsfUf",
        "outputId": "3db7deb1-3931-4d0a-9c11-b7225f260643",
        "colab": {
          "base_uri": "https://localhost:8080/",
          "height": 51
        }
      },
      "source": [
        "#contoh\n",
        "bunga = {\"Mawar\", \"Melati\", \"Sakura\"}\n",
        "\n",
        "x = bunga.pop()\n",
        "\n",
        "print(x)\n",
        "print(bunga)"
      ],
      "execution_count": null,
      "outputs": [
        {
          "output_type": "stream",
          "text": [
            "Sakura\n",
            "{'Melati', 'Mawar'}\n"
          ],
          "name": "stdout"
        }
      ]
    },
    {
      "cell_type": "code",
      "metadata": {
        "id": "b6b38iH4ABg0"
      },
      "source": [
        "#sekarang giliran kamu mencoba\n",
        "\n",
        "\n"
      ],
      "execution_count": null,
      "outputs": []
    },
    {
      "cell_type": "markdown",
      "metadata": {
        "id": "8KxEB7KVB7Ex"
      },
      "source": [
        "### difference()\n",
        "Metode ini berfungsi untuk mengembalikan satu set yang berisi selisih antara dua atau lebih set. operasi selisih adalah set himpunan yang hanya ada di A tidak ada di B."
      ]
    },
    {
      "cell_type": "code",
      "metadata": {
        "id": "9KHpjJmVCQGy",
        "outputId": "478f4be7-00c0-489a-fb6c-50a81e4c2223",
        "colab": {
          "base_uri": "https://localhost:8080/",
          "height": 34
        }
      },
      "source": [
        "#contoh\n",
        "kata1 = {\"aku\", \"kamu\", \"mereka\",\"kamu\"}\n",
        "kata2 ={\"kita\",\"aku\",\"ia\",\"kamu\"}\n",
        "kata1.difference(kata2)\n"
      ],
      "execution_count": null,
      "outputs": [
        {
          "output_type": "execute_result",
          "data": {
            "text/plain": [
              "{'mereka'}"
            ]
          },
          "metadata": {
            "tags": []
          },
          "execution_count": 13
        }
      ]
    },
    {
      "cell_type": "code",
      "metadata": {
        "id": "xFYqflcIDdTG"
      },
      "source": [
        "#sekarang giliran kamu mencoba\n",
        "\n",
        "\n"
      ],
      "execution_count": null,
      "outputs": []
    },
    {
      "cell_type": "markdown",
      "metadata": {
        "id": "4xy9WNjtfWHE"
      },
      "source": [
        "### difference update()\n",
        "Metode ini berfungsi untuk menghapus item dalam set ini yang juga termasuk dalam set lain yang ditentukan."
      ]
    },
    {
      "cell_type": "code",
      "metadata": {
        "id": "qrAUQTg7gCx1",
        "outputId": "22d908ef-1851-49c6-e5b1-4b888b879e59",
        "colab": {
          "base_uri": "https://localhost:8080/",
          "height": 34
        }
      },
      "source": [
        "x = {\"Matematika\", \"Mudah\", \"Menyenangkan\"}\n",
        "y = {\"Mudah\", \"Semangat\", \"Bisa\"}\n",
        "\n",
        "x.difference_update(y)\n",
        "\n",
        "print(x)"
      ],
      "execution_count": null,
      "outputs": [
        {
          "output_type": "stream",
          "text": [
            "{'Matematika', 'Menyenangkan'}\n"
          ],
          "name": "stdout"
        }
      ]
    },
    {
      "cell_type": "code",
      "metadata": {
        "id": "MwID34Olgd0b"
      },
      "source": [
        "#sekarang giliran kamu mencoba\n",
        "\n",
        "\n"
      ],
      "execution_count": null,
      "outputs": []
    },
    {
      "cell_type": "markdown",
      "metadata": {
        "id": "MzgRyShEDikw"
      },
      "source": [
        "### symmetric_difference()\n",
        "symmetric_difference() atau operasi komplemen adalah set anggota yang ada di A dan B, tapi tidak di keduanya."
      ]
    },
    {
      "cell_type": "code",
      "metadata": {
        "id": "BvLA6XjsGp1U",
        "outputId": "196287e4-db91-4ca3-80f5-7352234031bc",
        "colab": {
          "base_uri": "https://localhost:8080/",
          "height": 34
        }
      },
      "source": [
        "#contoh\n",
        "kata1 = {\"aku\", \"kamu\", \"mereka\",\"kamu\"}\n",
        "kata2 ={\"kita\",\"aku\",\"ia\",\"kamu\"}\n",
        "kata1.symmetric_difference(kata2)"
      ],
      "execution_count": null,
      "outputs": [
        {
          "output_type": "execute_result",
          "data": {
            "text/plain": [
              "{'ia', 'kita', 'mereka'}"
            ]
          },
          "metadata": {
            "tags": []
          },
          "execution_count": 14
        }
      ]
    },
    {
      "cell_type": "code",
      "metadata": {
        "id": "6rmIwkjPHAXG"
      },
      "source": [
        "#sekarang giliran kamu mencoba\n",
        "\n",
        "\n"
      ],
      "execution_count": null,
      "outputs": []
    },
    {
      "cell_type": "markdown",
      "metadata": {
        "id": "xG3TDhjJZTpx"
      },
      "source": [
        "### issubset()\n",
        "Metode ini berfungsi untuk menampilkan apakah set lain berisi set ini atau tidak.\n",
        "\n",
        "\n",
        "  "
      ]
    },
    {
      "cell_type": "code",
      "metadata": {
        "id": "CnmnwoJCbLCh",
        "outputId": "63546f12-f143-40bd-9189-2a6d8406a19a",
        "colab": {
          "base_uri": "https://localhost:8080/",
          "height": 34
        }
      },
      "source": [
        "#contoh\n",
        "x = {\"a\", \"b\", \"c\"}\n",
        "y = {\"d\", \"e\", \"f\", \"c\", \"b\", \"a\"}\n",
        "\n",
        "z = x.issubset(y) \n",
        "print(z)"
      ],
      "execution_count": null,
      "outputs": [
        {
          "output_type": "stream",
          "text": [
            "True\n"
          ],
          "name": "stdout"
        }
      ]
    },
    {
      "cell_type": "code",
      "metadata": {
        "id": "7cY99yP5bgJH"
      },
      "source": [
        "#sekarang giliran kamu mencoba\n",
        "\n",
        "\n"
      ],
      "execution_count": null,
      "outputs": []
    },
    {
      "cell_type": "markdown",
      "metadata": {
        "id": "e_FLD4gMghw2"
      },
      "source": [
        "### issuperset()\n",
        "\n",
        "Metode ini berfungsi untuk menampilkan apakah set ini berisi set lain atau tidak"
      ]
    },
    {
      "cell_type": "code",
      "metadata": {
        "id": "OcRklf57gz0_",
        "outputId": "917fc9ac-e4d9-4f10-c0ad-896c48f5112c",
        "colab": {
          "base_uri": "https://localhost:8080/",
          "height": 34
        }
      },
      "source": [
        "#contoh\n",
        "x = {\"d\", \"e\", \"f\", \"c\", \"b\", \"a\"}\n",
        "y = {\"a\", \"b\", \"c\"}\n",
        "\n",
        "z = x.issuperset(y) \n",
        "\n",
        "print(z)\n"
      ],
      "execution_count": null,
      "outputs": [
        {
          "output_type": "stream",
          "text": [
            "True\n"
          ],
          "name": "stdout"
        }
      ]
    },
    {
      "cell_type": "code",
      "metadata": {
        "id": "M06DUuXbhFcU"
      },
      "source": [
        "#sekarang giliran kamu mencoba\n",
        "\n",
        "\n",
        "\n"
      ],
      "execution_count": null,
      "outputs": []
    }
  ]
}