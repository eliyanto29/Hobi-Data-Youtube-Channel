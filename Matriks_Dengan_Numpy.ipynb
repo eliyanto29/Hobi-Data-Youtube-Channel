{
  "nbformat": 4,
  "nbformat_minor": 0,
  "metadata": {
    "colab": {
      "name": "Matriks Dengan Numpy.ipynb",
      "provenance": [],
      "collapsed_sections": [],
      "toc_visible": true,
      "include_colab_link": true
    },
    "kernelspec": {
      "name": "python3",
      "display_name": "Python 3"
    }
  },
  "cells": [
    {
      "cell_type": "markdown",
      "metadata": {
        "id": "view-in-github",
        "colab_type": "text"
      },
      "source": [
        "<a href=\"https://colab.research.google.com/github/eliyanto29/Hobi-Data-Youtube-Channel/blob/main/Matriks_Dengan_Numpy.ipynb\" target=\"_parent\"><img src=\"https://colab.research.google.com/assets/colab-badge.svg\" alt=\"Open In Colab\"/></a>"
      ]
    },
    {
      "cell_type": "markdown",
      "metadata": {
        "id": "fbRs0mDa7N7u"
      },
      "source": [
        "![alt text](https://drive.google.com/uc?id=1LorCyNhtayK1l-T8eoHdPLo53NJMgUy-\n",
        ")"
      ]
    },
    {
      "cell_type": "markdown",
      "metadata": {
        "id": "vp_W6oDTM57S"
      },
      "source": [
        "Assalamualaikum warahmatullahi wabarakatuh.\n",
        "\n",
        "***Robbi Zidni Ilma Warzuqni Fahma***\n",
        "\n",
        "Semoga Allah memberi kemudahan untuk kita memperoleh ilmu yang bermanfaat.\n",
        "\n",
        "## **Hasil Yang Ingin Dicapai**\n",
        "1. Memahami representasi array pada python\n",
        "2. Mengenal dan memahami representasi matriks pada python\n",
        "3. Mengenal dan memahami oeprasi matriks pada python\n",
        "4. Mengenal dan memahami modul linear algebra pada python numpy\n",
        "5. Membuat matriks menggunakan perulangan pada python\n",
        "\n",
        "### ***!!!***\n",
        "\n",
        "***Sebelum memulai mempelajari notebook ini, jangan lupa untuk menyalinnya di drive masing-masing ya.***\n",
        "\n",
        "### ***!!!***\n"
      ]
    },
    {
      "cell_type": "markdown",
      "metadata": {
        "id": "Do9qqKm3NbF4"
      },
      "source": [
        "# **Array dan Operasinya**\n",
        "\n"
      ]
    },
    {
      "cell_type": "markdown",
      "metadata": {
        "id": "-2fE_LdUk8qa"
      },
      "source": [
        "**List sebagai Array**"
      ]
    },
    {
      "cell_type": "markdown",
      "metadata": {
        "id": "JzYxWFT_iZXS"
      },
      "source": [
        "Sebagai catatan penting adalah Python tidak memiliki dukungan bawaan untuk Array, tetapi List Python dapat digunakan sebagai gantinya.\n",
        "\n",
        "Kita menggunakan konsep **list** sebagai **array**, untuk bekerja dengan array pada Python kita memerlukan untuk mengimpor library numpy."
      ]
    },
    {
      "cell_type": "code",
      "metadata": {
        "id": "LDyzZ_Lm8HFY"
      },
      "source": [
        "import numpy as np"
      ],
      "execution_count": null,
      "outputs": []
    },
    {
      "cell_type": "markdown",
      "metadata": {
        "id": "bge8uRsFjQbd"
      },
      "source": [
        "Contoh: Membuat array berisi nama-nama buah:"
      ]
    },
    {
      "cell_type": "code",
      "metadata": {
        "id": "e4ASjbmGjVLj",
        "outputId": "951f637f-539f-416f-c60e-62d2b0f0e285",
        "colab": {
          "base_uri": "https://localhost:8080/"
        }
      },
      "source": [
        "buah=['nangka', 'manggis', 'ceplukan', 'mengkudu']\n",
        "buah"
      ],
      "execution_count": null,
      "outputs": [
        {
          "output_type": "execute_result",
          "data": {
            "text/plain": [
              "['nangka', 'manggis', 'ceplukan', 'mengkudu']"
            ]
          },
          "metadata": {
            "tags": []
          },
          "execution_count": 14
        }
      ]
    },
    {
      "cell_type": "markdown",
      "metadata": {
        "id": "m88wYgC7jMgG"
      },
      "source": [
        "Array merupakan sebuah variabel yang menyimpan lebih dari 1 buah data yang memiliki tipe data yang sama. Jadi dapat dikatakan bahwa array merupakan kumpulan dari data-data tunggal yang dijadikan dalam 1 variabel array yang alamat memorinya berbeda yang selanjutnya disebut elemen-elemen array yang bisa kita akses berdasarkan indeks."
      ]
    },
    {
      "cell_type": "markdown",
      "metadata": {
        "id": "BzA9a3X7j-aS"
      },
      "source": [
        "Sebagai contoh, jika kita memiliki list nama-nama buah sebagai contohnya kita dapat menyimpan nama-nama tersebut dalam variabel tunggal, maka akan terlihat seperti ini: "
      ]
    },
    {
      "cell_type": "code",
      "metadata": {
        "id": "s9c9JK3jjHw4"
      },
      "source": [
        "buah1= \"nangka\"\n",
        "buah2= \"manggis\"\n",
        "buah3= \"ceplukan\""
      ],
      "execution_count": null,
      "outputs": []
    },
    {
      "cell_type": "markdown",
      "metadata": {
        "id": "WV6wo5Z7knfM"
      },
      "source": [
        "Lau, bagaimana jika kita ingin menyimpan nama-nama buah yang sangat banya, 3000 misalnya.\n",
        "\n",
        "Solusinya adalah array\n"
      ]
    },
    {
      "cell_type": "markdown",
      "metadata": {
        "id": "w5qqTlEJlBZr"
      },
      "source": [
        "**Mengakses elemen suatu Array**"
      ]
    },
    {
      "cell_type": "markdown",
      "metadata": {
        "id": "FcLwhjxMlJAI"
      },
      "source": [
        "Python mengenal slicing operator [ ] yang dapat melakukan ekstraksi sebuah item atau beberapa item yang berada dalam range tertentu pada suatu array. Beberapa tipe urutan juga mendukung \"extended slicing\" dengan parameter ketiga berupa \"step\".\n",
        "\n",
        "* x[0] artinya mengambil elemen paling awal, dengan  index 0 dari array x.\n",
        "\n",
        "* x[5] artinya mengambil elemen dengan index 5 dari array x.\n",
        "\n",
        "* x[-1] artinya mengambil elemen dengan index paling belakang ke-1 dari array x.\n",
        "\n",
        "* x[3:5] artinya membuat array dari anggota elemen array x dengan index 3 hingga sebelum index 5 (tidak termasuk elemen dengan index 5, dalam hal ini hanya index 3-4).\n",
        "\n",
        "* x[:5] artinya membuat array dari anggota elemen array x paling awal hingga sebelum index 5 (tidak termasuk elemen dengan index 5, dalam hal ini hanya index 0-4).\n",
        "\n",
        "* x[-3:] artinya membuat array dari anggota elemen array x mulai index ke-3 dari belakang hingga paling belakang.\n",
        "\n",
        "* x[1:7:2] artinya membuat array dari anggota elemen array x dengan index 1 hingga sebelum index 7, dengan \"step\" 2 (dalam hal ini hanya index 1, 3, 5).\n",
        "\n"
      ]
    },
    {
      "cell_type": "code",
      "metadata": {
        "id": "d3uKlDLLlsaY",
        "outputId": "72278b1c-3859-4a7d-a9d8-6ab55596f085",
        "colab": {
          "base_uri": "https://localhost:8080/",
          "height": 119
        }
      },
      "source": [
        "x = [5,10,15,20,25,30,35,40]\n",
        "print(x[5])\n",
        "print(x[-1])\n",
        "print(x[3:5])\n",
        "print(x[:5])\n",
        "print(x[-3:])\n",
        "print(x[1:7:2])"
      ],
      "execution_count": null,
      "outputs": [
        {
          "output_type": "stream",
          "text": [
            "30\n",
            "40\n",
            "[20, 25]\n",
            "[5, 10, 15, 20, 25]\n",
            "[30, 35, 40]\n",
            "[10, 20, 30]\n"
          ],
          "name": "stdout"
        }
      ]
    },
    {
      "cell_type": "markdown",
      "metadata": {
        "id": "OZKf3vW5mH0K"
      },
      "source": [
        "**Panjang dan dimensi Array**"
      ]
    },
    {
      "cell_type": "markdown",
      "metadata": {
        "id": "DR9MZBGBmLrg"
      },
      "source": [
        "Gunakan metode len () untuk menentukan panjang array (jumlah elemen dalam array)."
      ]
    },
    {
      "cell_type": "code",
      "metadata": {
        "id": "sIx3CPt6mUDI",
        "outputId": "cc896f67-44a8-460c-9734-51dea7486ab5",
        "colab": {
          "base_uri": "https://localhost:8080/",
          "height": 34
        }
      },
      "source": [
        "x = len(buah)\n",
        "x"
      ],
      "execution_count": null,
      "outputs": [
        {
          "output_type": "execute_result",
          "data": {
            "text/plain": [
              "4"
            ]
          },
          "metadata": {
            "tags": []
          },
          "execution_count": 54
        }
      ]
    },
    {
      "cell_type": "code",
      "metadata": {
        "id": "tyTrrgGGmkM0",
        "outputId": "eb3de8da-68fb-436c-cefb-174e32e8d841",
        "colab": {
          "base_uri": "https://localhost:8080/",
          "height": 34
        }
      },
      "source": [
        "y= np.shape(buah)\n",
        "y"
      ],
      "execution_count": null,
      "outputs": [
        {
          "output_type": "execute_result",
          "data": {
            "text/plain": [
              "(4,)"
            ]
          },
          "metadata": {
            "tags": []
          },
          "execution_count": 55
        }
      ]
    },
    {
      "cell_type": "code",
      "metadata": {
        "id": "n97FwPMSmzfo",
        "outputId": "623b866a-1370-4441-a855-f88f098ee557",
        "colab": {
          "base_uri": "https://localhost:8080/",
          "height": 34
        }
      },
      "source": [
        "A = np.array([[1, 2, 3], [4, 5, 6]])\n",
        "u = np.shape(A)\n",
        "u"
      ],
      "execution_count": null,
      "outputs": [
        {
          "output_type": "execute_result",
          "data": {
            "text/plain": [
              "(2, 3)"
            ]
          },
          "metadata": {
            "tags": []
          },
          "execution_count": 56
        }
      ]
    },
    {
      "cell_type": "markdown",
      "metadata": {
        "id": "VmMDFeBVecQE"
      },
      "source": [
        "**Array dengan Arrange**"
      ]
    },
    {
      "cell_type": "code",
      "metadata": {
        "id": "QnrDqwEkepjc",
        "outputId": "bdc6da00-5e06-420a-e02d-ac29edac2a5e",
        "colab": {
          "base_uri": "https://localhost:8080/"
        }
      },
      "source": [
        "C=np.arange(1,11,2)\n",
        "C"
      ],
      "execution_count": null,
      "outputs": [
        {
          "output_type": "execute_result",
          "data": {
            "text/plain": [
              "array([1, 3, 5, 7, 9])"
            ]
          },
          "metadata": {
            "tags": []
          },
          "execution_count": 9
        }
      ]
    },
    {
      "cell_type": "markdown",
      "metadata": {
        "id": "yDYmiy_4miyL"
      },
      "source": [
        "**Perulangan pada Elemen Array**"
      ]
    },
    {
      "cell_type": "code",
      "metadata": {
        "id": "yzCpWJPsnO1X",
        "outputId": "1ac0b009-775a-4199-dd04-d2042d0e9587",
        "colab": {
          "base_uri": "https://localhost:8080/"
        }
      },
      "source": [
        "for afif in C:\n",
        "  print(afif)"
      ],
      "execution_count": null,
      "outputs": [
        {
          "output_type": "stream",
          "text": [
            "1\n",
            "3\n",
            "5\n",
            "7\n",
            "9\n"
          ],
          "name": "stdout"
        }
      ]
    },
    {
      "cell_type": "markdown",
      "metadata": {
        "id": "bCbB16tlnV7k"
      },
      "source": [
        "**Menambah Elemen Array**"
      ]
    },
    {
      "cell_type": "markdown",
      "metadata": {
        "id": "Ykkq8_mDnZgf"
      },
      "source": [
        "Kita bisa menggunakan metode append() untuk menambahkan elemen ke array."
      ]
    },
    {
      "cell_type": "code",
      "metadata": {
        "id": "9RAPqh1VGf_s",
        "outputId": "ca416c3b-1283-4b57-9852-0ea56f98933f",
        "colab": {
          "base_uri": "https://localhost:8080/"
        }
      },
      "source": [
        "buah"
      ],
      "execution_count": null,
      "outputs": [
        {
          "output_type": "execute_result",
          "data": {
            "text/plain": [
              "['nangka', 'manggis', 'ceplukan', 'mengkudu']"
            ]
          },
          "metadata": {
            "tags": []
          },
          "execution_count": 15
        }
      ]
    },
    {
      "cell_type": "code",
      "metadata": {
        "id": "d0iMxMhJnfTe",
        "outputId": "b38637b3-33eb-4dae-80c9-384cbab8994d",
        "colab": {
          "base_uri": "https://localhost:8080/",
          "height": 34
        }
      },
      "source": [
        "buah.append(\"belimbing\")\n",
        "buah"
      ],
      "execution_count": null,
      "outputs": [
        {
          "output_type": "execute_result",
          "data": {
            "text/plain": [
              "['nangka', 'manggis', 'ceplukan', 'mengkudu', 'belimbing']"
            ]
          },
          "metadata": {
            "tags": []
          },
          "execution_count": 59
        }
      ]
    },
    {
      "cell_type": "markdown",
      "metadata": {
        "id": "oa1cgHpxnurX"
      },
      "source": [
        "**Menghapus Elemen Array**"
      ]
    },
    {
      "cell_type": "markdown",
      "metadata": {
        "id": "-Vb8ZyzWn06h"
      },
      "source": [
        "Anda bisa menggunakan metode pop() atau remove() untuk menghapus elemen dari array."
      ]
    },
    {
      "cell_type": "code",
      "metadata": {
        "id": "dxhndV6_Gsjn",
        "outputId": "70aeecbe-84df-4ef4-ce91-8d1fee2af598",
        "colab": {
          "base_uri": "https://localhost:8080/"
        }
      },
      "source": [
        "buah=['nangka', 'manggis', 'ceplukan', 'mengkudu']\n",
        "buah"
      ],
      "execution_count": null,
      "outputs": [
        {
          "output_type": "execute_result",
          "data": {
            "text/plain": [
              "['nangka', 'manggis', 'ceplukan', 'mengkudu']"
            ]
          },
          "metadata": {
            "tags": []
          },
          "execution_count": 19
        }
      ]
    },
    {
      "cell_type": "code",
      "metadata": {
        "id": "fkcEkRISn6Du",
        "outputId": "1f180785-ed83-47fe-aacd-8d9222a480af",
        "colab": {
          "base_uri": "https://localhost:8080/"
        }
      },
      "source": [
        "# Menghapus elemen kedua pada array buah\n",
        "# pop() menghapus berdasarkan indeks array\n",
        "buah.pop(1)\n",
        "buah"
      ],
      "execution_count": null,
      "outputs": [
        {
          "output_type": "execute_result",
          "data": {
            "text/plain": [
              "['nangka', 'ceplukan', 'mengkudu']"
            ]
          },
          "metadata": {
            "tags": []
          },
          "execution_count": 20
        }
      ]
    },
    {
      "cell_type": "code",
      "metadata": {
        "id": "e-VVvGa1oOmZ",
        "outputId": "4829a3b3-b072-43eb-9d96-a1809da3840a",
        "colab": {
          "base_uri": "https://localhost:8080/"
        }
      },
      "source": [
        "# Menghapus elemen kedua pada array buah\n",
        "# remove() menghapus berdasarkan elemen array\n",
        "buah.remove('ceplukan')\n",
        "buah"
      ],
      "execution_count": null,
      "outputs": [
        {
          "output_type": "execute_result",
          "data": {
            "text/plain": [
              "['nangka', 'mengkudu']"
            ]
          },
          "metadata": {
            "tags": []
          },
          "execution_count": 21
        }
      ]
    },
    {
      "cell_type": "markdown",
      "metadata": {
        "id": "gihvFdlUNtIi"
      },
      "source": [
        "**Build in methods terkait dengan array Python**"
      ]
    },
    {
      "cell_type": "markdown",
      "metadata": {
        "id": "Rj9cfhbzok65"
      },
      "source": [
        "| Method | Deskripsi|\n",
        "--- | --- |\n",
        "append()| Menambahkan elemen di akhir array\n",
        "clear() | Menghapus semua elemen dari array\n",
        "copy()  | Menghasilkan salinan array\n",
        "count() | Menghitung jumlah elemen dengan nilai yang ditentukan\n",
        "extend()| Tambahkan elemen daftar (atau iterable), di akhir list\n",
        "index() | Menghasilkan indeks elemen pertama dengan nilai yang ditentukan\n",
        "insert() |  Menambahkan elemen pada posisi yang ditentukan\n",
        "reverse() | Membalik urutan array\n",
        "sort()  | Mengurutkan array\n",
        "\n"
      ]
    },
    {
      "cell_type": "markdown",
      "metadata": {
        "id": "C6xLmGj27hRQ"
      },
      "source": [
        "# **Representasi Matriks Pada Python**"
      ]
    },
    {
      "cell_type": "markdown",
      "metadata": {
        "id": "rl5CYrqh72gg"
      },
      "source": [
        "Matriks adalah array 2 dimensi khusus yang mempertahankan sifat 2 dimensinnya melalui operasi. Matriks memiliki operator khusus tertentu, seperti perkalian matriks dan pemangkatan matriks.\n",
        "\n",
        "Untuk mendefinisikan suatu array dan menggunakan fungsi-fungsi operasi matriks, kita akan menggunakan modul numpy pada python. Pertama kita import numpy dengan alias np."
      ]
    },
    {
      "cell_type": "markdown",
      "metadata": {
        "id": "5VMq8Q44CttX"
      },
      "source": [
        "Berikut adalah beberapa penulisan python di berbagai platform:\n",
        "\n",
        "![alt text](https://drive.google.com/uc?id=1Vo7_qxBo3AGaKDtS1nym0Q-hq1Rxh2JH\n",
        ")\n",
        "\n"
      ]
    },
    {
      "cell_type": "markdown",
      "metadata": {
        "id": "1_pOFiJ6DO33"
      },
      "source": [
        "Berikut contoh penulisan matriks pada python:"
      ]
    },
    {
      "cell_type": "code",
      "metadata": {
        "id": "Xyk8tEnXDUJC",
        "outputId": "9aafec84-5684-4143-fe6f-17bc524ed48c",
        "colab": {
          "base_uri": "https://localhost:8080/"
        }
      },
      "source": [
        "A = np.array([[1, 2], [4, 5]])\n",
        "A"
      ],
      "execution_count": null,
      "outputs": [
        {
          "output_type": "execute_result",
          "data": {
            "text/plain": [
              "array([[1, 2],\n",
              "       [4, 5]])"
            ]
          },
          "metadata": {
            "tags": []
          },
          "execution_count": 22
        }
      ]
    },
    {
      "cell_type": "code",
      "metadata": {
        "id": "gVHi2PQzEhOF",
        "outputId": "deee147c-c6fa-4ad8-e0be-6879b796a211",
        "colab": {
          "base_uri": "https://localhost:8080/"
        }
      },
      "source": [
        "B = np.array([[1, 2, 3], [4, 5, 6], [7, 8, 9]])\n",
        "B"
      ],
      "execution_count": null,
      "outputs": [
        {
          "output_type": "execute_result",
          "data": {
            "text/plain": [
              "array([[1, 2, 3],\n",
              "       [4, 5, 6],\n",
              "       [7, 8, 9]])"
            ]
          },
          "metadata": {
            "tags": []
          },
          "execution_count": 23
        }
      ]
    },
    {
      "cell_type": "markdown",
      "metadata": {
        "id": "0d_TWaFN7pD-"
      },
      "source": [
        "# **Operasi Matriks Pada Python**"
      ]
    },
    {
      "cell_type": "code",
      "metadata": {
        "id": "Jd8AIwFJEo9J",
        "outputId": "0eb6c875-8ce4-4cef-ec5d-20b6932ad8ff",
        "colab": {
          "base_uri": "https://localhost:8080/",
          "height": 51
        }
      },
      "source": [
        "P = np.array([[1, 2], [4, 5]])\n",
        "P"
      ],
      "execution_count": null,
      "outputs": [
        {
          "output_type": "execute_result",
          "data": {
            "text/plain": [
              "array([[1, 2],\n",
              "       [4, 5]])"
            ]
          },
          "metadata": {
            "tags": []
          },
          "execution_count": 64
        }
      ]
    },
    {
      "cell_type": "code",
      "metadata": {
        "id": "zjoWermWFDIe",
        "outputId": "7e192a68-aebb-4908-f438-f2e149a571e5",
        "colab": {
          "base_uri": "https://localhost:8080/"
        }
      },
      "source": [
        "Q = np.array([[7, 8], [9, 10]])\n",
        "Q"
      ],
      "execution_count": null,
      "outputs": [
        {
          "output_type": "execute_result",
          "data": {
            "text/plain": [
              "array([[ 7,  8],\n",
              "       [ 9, 10]])"
            ]
          },
          "metadata": {
            "tags": []
          },
          "execution_count": 24
        }
      ]
    },
    {
      "cell_type": "code",
      "metadata": {
        "id": "-cK4ygYAFmnO",
        "outputId": "9b133b15-c02a-4edd-8646-1da695335d8b",
        "colab": {
          "base_uri": "https://localhost:8080/",
          "height": 34
        }
      },
      "source": [
        "a=29\n",
        "a"
      ],
      "execution_count": null,
      "outputs": [
        {
          "output_type": "execute_result",
          "data": {
            "text/plain": [
              "29"
            ]
          },
          "metadata": {
            "tags": []
          },
          "execution_count": 66
        }
      ]
    },
    {
      "cell_type": "markdown",
      "metadata": {
        "id": "PM-ql5a8FFQW"
      },
      "source": [
        "**Penjumlahan Matriks**"
      ]
    },
    {
      "cell_type": "code",
      "metadata": {
        "id": "OAXVg4Z7FIgO",
        "outputId": "d27e22d0-ffb9-43d8-ef2e-86ba967cf456",
        "colab": {
          "base_uri": "https://localhost:8080/",
          "height": 51
        }
      },
      "source": [
        "np.add(P,Q)"
      ],
      "execution_count": null,
      "outputs": [
        {
          "output_type": "execute_result",
          "data": {
            "text/plain": [
              "array([[ 8, 10],\n",
              "       [13, 15]])"
            ]
          },
          "metadata": {
            "tags": []
          },
          "execution_count": 67
        }
      ]
    },
    {
      "cell_type": "markdown",
      "metadata": {
        "id": "wKyPNa0lFRoy"
      },
      "source": [
        "**Pengurangan Matriks**"
      ]
    },
    {
      "cell_type": "code",
      "metadata": {
        "id": "4yO5Z-DsFVRM",
        "outputId": "b4906ad5-b163-4f58-c645-5e0a6c2dd694",
        "colab": {
          "base_uri": "https://localhost:8080/",
          "height": 51
        }
      },
      "source": [
        "np.subtract(P,Q)"
      ],
      "execution_count": null,
      "outputs": [
        {
          "output_type": "execute_result",
          "data": {
            "text/plain": [
              "array([[-6, -6],\n",
              "       [-5, -5]])"
            ]
          },
          "metadata": {
            "tags": []
          },
          "execution_count": 68
        }
      ]
    },
    {
      "cell_type": "markdown",
      "metadata": {
        "id": "zI3QA0znFgzA"
      },
      "source": [
        "**Perkalian Skalar Matriks**"
      ]
    },
    {
      "cell_type": "code",
      "metadata": {
        "id": "YonggKy8FtgY",
        "outputId": "829e1e49-269b-4046-b0a5-5ee0acad3031",
        "colab": {
          "base_uri": "https://localhost:8080/",
          "height": 51
        }
      },
      "source": [
        "a*P"
      ],
      "execution_count": null,
      "outputs": [
        {
          "output_type": "execute_result",
          "data": {
            "text/plain": [
              "array([[ 29,  58],\n",
              "       [116, 145]])"
            ]
          },
          "metadata": {
            "tags": []
          },
          "execution_count": 69
        }
      ]
    },
    {
      "cell_type": "markdown",
      "metadata": {
        "id": "d_xAIVF4FaSR"
      },
      "source": [
        "**Perkalian Matriks**"
      ]
    },
    {
      "cell_type": "code",
      "metadata": {
        "id": "iG5oTMt4Fz0B",
        "outputId": "d56bd494-c9a0-43e2-f499-71dde2f2a141",
        "colab": {
          "base_uri": "https://localhost:8080/",
          "height": 51
        }
      },
      "source": [
        "np.multiply(P,Q)"
      ],
      "execution_count": null,
      "outputs": [
        {
          "output_type": "execute_result",
          "data": {
            "text/plain": [
              "array([[ 7, 16],\n",
              "       [36, 50]])"
            ]
          },
          "metadata": {
            "tags": []
          },
          "execution_count": 70
        }
      ]
    },
    {
      "cell_type": "markdown",
      "metadata": {
        "id": "9V9lcBDtF8-R"
      },
      "source": [
        "**Perkalian Titik Matriks (Dot Product)**"
      ]
    },
    {
      "cell_type": "code",
      "metadata": {
        "id": "o12kJct7GLew",
        "outputId": "fd2eb3e2-bc08-4491-8f48-fce8c7557114",
        "colab": {
          "base_uri": "https://localhost:8080/",
          "height": 51
        }
      },
      "source": [
        "np.dot(P,Q)"
      ],
      "execution_count": null,
      "outputs": [
        {
          "output_type": "execute_result",
          "data": {
            "text/plain": [
              "array([[25, 28],\n",
              "       [73, 82]])"
            ]
          },
          "metadata": {
            "tags": []
          },
          "execution_count": 71
        }
      ]
    },
    {
      "cell_type": "markdown",
      "metadata": {
        "id": "IZSzXLlgG2fn"
      },
      "source": [
        "**Transpose Matriks**"
      ]
    },
    {
      "cell_type": "code",
      "metadata": {
        "id": "HoCDbnfNGx-7",
        "outputId": "abd103a4-2ca0-4f98-a709-392c04b17156",
        "colab": {
          "base_uri": "https://localhost:8080/",
          "height": 51
        }
      },
      "source": [
        "P.T"
      ],
      "execution_count": null,
      "outputs": [
        {
          "output_type": "execute_result",
          "data": {
            "text/plain": [
              "array([[1, 4],\n",
              "       [2, 5]])"
            ]
          },
          "metadata": {
            "tags": []
          },
          "execution_count": 72
        }
      ]
    },
    {
      "cell_type": "markdown",
      "metadata": {
        "id": "yKcYKwLAGoxH"
      },
      "source": [
        "**Operasi Fungsi Pada Setiap Elemen Matriks - Akar Kuadrat**"
      ]
    },
    {
      "cell_type": "code",
      "metadata": {
        "id": "IGXz3a5sGr6i",
        "outputId": "3724c6b1-4a5c-4c19-bc10-1d9f5290c7e8",
        "colab": {
          "base_uri": "https://localhost:8080/",
          "height": 51
        }
      },
      "source": [
        "np.sqrt(P)"
      ],
      "execution_count": null,
      "outputs": [
        {
          "output_type": "execute_result",
          "data": {
            "text/plain": [
              "array([[1.        , 1.41421356],\n",
              "       [2.        , 2.23606798]])"
            ]
          },
          "metadata": {
            "tags": []
          },
          "execution_count": 73
        }
      ]
    },
    {
      "cell_type": "markdown",
      "metadata": {
        "id": "gPr8y8B5HhUb"
      },
      "source": [
        "**Menjumlahkan Semua Elemen Kolom Sebuah Matriks**"
      ]
    },
    {
      "cell_type": "code",
      "metadata": {
        "id": "DIx9Jr4VIYcK",
        "outputId": "58c6bc89-ba86-44d1-87d1-264ac574f280",
        "colab": {
          "base_uri": "https://localhost:8080/"
        }
      },
      "source": [
        "Q"
      ],
      "execution_count": null,
      "outputs": [
        {
          "output_type": "execute_result",
          "data": {
            "text/plain": [
              "array([[ 7,  8],\n",
              "       [ 9, 10]])"
            ]
          },
          "metadata": {
            "tags": []
          },
          "execution_count": 27
        }
      ]
    },
    {
      "cell_type": "code",
      "metadata": {
        "id": "XLmOIXsnHlkc",
        "outputId": "6011e6d5-425e-4132-b3d1-8de21ee807a0",
        "colab": {
          "base_uri": "https://localhost:8080/"
        }
      },
      "source": [
        "np.sum(Q,axis=1)"
      ],
      "execution_count": null,
      "outputs": [
        {
          "output_type": "execute_result",
          "data": {
            "text/plain": [
              "array([15, 19])"
            ]
          },
          "metadata": {
            "tags": []
          },
          "execution_count": 29
        }
      ]
    },
    {
      "cell_type": "markdown",
      "metadata": {
        "id": "XSEwRsazHtDE"
      },
      "source": [
        "**Menjumlahkan Semua Elemen Baris Sebuah Matriks**"
      ]
    },
    {
      "cell_type": "code",
      "metadata": {
        "id": "LjtoSa17H0YK",
        "outputId": "ed63b466-292d-465b-a5a5-7081917c6194",
        "colab": {
          "base_uri": "https://localhost:8080/"
        }
      },
      "source": [
        "np.sum(Q,axis=0)"
      ],
      "execution_count": null,
      "outputs": [
        {
          "output_type": "execute_result",
          "data": {
            "text/plain": [
              "array([16, 18])"
            ]
          },
          "metadata": {
            "tags": []
          },
          "execution_count": 30
        }
      ]
    },
    {
      "cell_type": "markdown",
      "metadata": {
        "id": "pUlvf2BN7v1X"
      },
      "source": [
        "# **Aljabar Linear Pada Python**"
      ]
    },
    {
      "cell_type": "markdown",
      "metadata": {
        "id": "A3NotyTtHUnU"
      },
      "source": [
        "Dalam modul numpy juga disediakan fungsi-fungsi Aljabar Linear untuk matriks.\n",
        "Beberapa konsep Aljabar Linear yang akan ditunjukkan di modul ini adalah\n",
        "* Determinan\n",
        "* Inverse\n",
        "* Nilai eigen\n",
        "* Vector eigen\n",
        "* Matriks identitas\n",
        "* Matriks satuan\n",
        "* Matriks nol\n",
        "* Matriks segitiga L dan U\n",
        "* Dekomposisi L U matriks"
      ]
    },
    {
      "cell_type": "code",
      "metadata": {
        "id": "KihkCBkq68PQ",
        "outputId": "9a90b71d-a341-4cbe-b1c4-0d83028929c2",
        "colab": {
          "base_uri": "https://localhost:8080/"
        }
      },
      "source": [
        "A = np.array([[2,3,4],[7, 8, 9],[10, 7, 8]])\n",
        "A"
      ],
      "execution_count": null,
      "outputs": [
        {
          "output_type": "execute_result",
          "data": {
            "text/plain": [
              "array([[ 2,  3,  4],\n",
              "       [ 7,  8,  9],\n",
              "       [10,  7,  8]])"
            ]
          },
          "metadata": {
            "tags": []
          },
          "execution_count": 31
        }
      ]
    },
    {
      "cell_type": "code",
      "metadata": {
        "id": "Neo8JE_WcL6d",
        "outputId": "5c8021a8-97ed-4b8b-afc2-ce22f64a5d31",
        "colab": {
          "base_uri": "https://localhost:8080/"
        }
      },
      "source": [
        "B = np.array([[5,7,4],[6, 8, 9],[1, 2, 6]])\n",
        "B"
      ],
      "execution_count": null,
      "outputs": [
        {
          "output_type": "execute_result",
          "data": {
            "text/plain": [
              "array([[5, 7, 4],\n",
              "       [6, 8, 9],\n",
              "       [1, 2, 6]])"
            ]
          },
          "metadata": {
            "tags": []
          },
          "execution_count": 32
        }
      ]
    },
    {
      "cell_type": "markdown",
      "metadata": {
        "id": "RIr84ePpcULq"
      },
      "source": [
        "**Determinan**\n"
      ]
    },
    {
      "cell_type": "code",
      "metadata": {
        "id": "iGngH0NmcSXp",
        "outputId": "5890011f-239e-4c42-e0fa-63e21b603048",
        "colab": {
          "base_uri": "https://localhost:8080/"
        }
      },
      "source": [
        "np.linalg.det(A)"
      ],
      "execution_count": null,
      "outputs": [
        {
          "output_type": "execute_result",
          "data": {
            "text/plain": [
              "-20.000000000000007"
            ]
          },
          "metadata": {
            "tags": []
          },
          "execution_count": 35
        }
      ]
    },
    {
      "cell_type": "markdown",
      "metadata": {
        "id": "y2L2FOe2dYEs"
      },
      "source": [
        "**Inverse Matriks**"
      ]
    },
    {
      "cell_type": "code",
      "metadata": {
        "id": "jDrWnut9dbUb",
        "outputId": "2a1a9275-4769-4295-e139-7a71608eefb9",
        "colab": {
          "base_uri": "https://localhost:8080/"
        }
      },
      "source": [
        "np.linalg.inv(A)"
      ],
      "execution_count": null,
      "outputs": [
        {
          "output_type": "execute_result",
          "data": {
            "text/plain": [
              "array([[-0.05, -0.2 ,  0.25],\n",
              "       [-1.7 ,  1.2 , -0.5 ],\n",
              "       [ 1.55, -0.8 ,  0.25]])"
            ]
          },
          "metadata": {
            "tags": []
          },
          "execution_count": 36
        }
      ]
    },
    {
      "cell_type": "markdown",
      "metadata": {
        "id": "3X3b9_DTeH61"
      },
      "source": [
        "**Nilai Eigen dan Vector Eigen**"
      ]
    },
    {
      "cell_type": "code",
      "metadata": {
        "id": "rtIHiI-hdEP7",
        "outputId": "7e509d81-1fed-4256-d10c-718a598b9607",
        "colab": {
          "base_uri": "https://localhost:8080/"
        }
      },
      "source": [
        "eig, vec_eig = np.linalg.eig(A)\n",
        "print('Nilai eigen matriks A:')\n",
        "print(eig)\n",
        "print('Vektor eigen matriks A:')\n",
        "print(vec_eig)"
      ],
      "execution_count": null,
      "outputs": [
        {
          "output_type": "stream",
          "text": [
            "Nilai eigen matriks A:\n",
            "[19.39079317 -1.9262474   0.53545423]\n",
            "Vektor eigen matriks A:\n",
            "[[-0.27295093 -0.54761756  0.15754422]\n",
            " [-0.6940728  -0.31621014 -0.8168342 ]\n",
            " [-0.66615369  0.7746781   0.55494297]]\n"
          ],
          "name": "stdout"
        }
      ]
    },
    {
      "cell_type": "markdown",
      "metadata": {
        "id": "rPU_mawLeN-P"
      },
      "source": [
        "**Matriks Identitas**"
      ]
    },
    {
      "cell_type": "code",
      "metadata": {
        "id": "nf5RetybK8Sd",
        "outputId": "291b345d-1f53-42ff-adad-3fd41c1ef66b",
        "colab": {
          "base_uri": "https://localhost:8080/"
        }
      },
      "source": [
        "Identitas=np.identity(5)\n",
        "print(Identitas)"
      ],
      "execution_count": null,
      "outputs": [
        {
          "output_type": "stream",
          "text": [
            "[[1. 0. 0. 0. 0.]\n",
            " [0. 1. 0. 0. 0.]\n",
            " [0. 0. 1. 0. 0.]\n",
            " [0. 0. 0. 1. 0.]\n",
            " [0. 0. 0. 0. 1.]]\n"
          ],
          "name": "stdout"
        }
      ]
    },
    {
      "cell_type": "code",
      "metadata": {
        "id": "CsCXNEqvJOnC",
        "outputId": "6d22fd96-282a-4b35-9b59-d988074c510a",
        "colab": {
          "base_uri": "https://localhost:8080/"
        }
      },
      "source": [
        "Identitas[:,3]"
      ],
      "execution_count": null,
      "outputs": [
        {
          "output_type": "execute_result",
          "data": {
            "text/plain": [
              "array([0., 0., 0., 1., 0.])"
            ]
          },
          "metadata": {
            "tags": []
          },
          "execution_count": 40
        }
      ]
    },
    {
      "cell_type": "markdown",
      "metadata": {
        "id": "N1za6XhfLQuW"
      },
      "source": [
        "**Matriks Satuan**"
      ]
    },
    {
      "cell_type": "code",
      "metadata": {
        "id": "akDgElRqeRur",
        "outputId": "38235a7a-768d-465f-b595-61d1483ad49c",
        "colab": {
          "base_uri": "https://localhost:8080/"
        }
      },
      "source": [
        "Satuan=np.ones((2,3))\n",
        "Satuan"
      ],
      "execution_count": null,
      "outputs": [
        {
          "output_type": "execute_result",
          "data": {
            "text/plain": [
              "array([[1., 1., 1.],\n",
              "       [1., 1., 1.]])"
            ]
          },
          "metadata": {
            "tags": []
          },
          "execution_count": 42
        }
      ]
    },
    {
      "cell_type": "markdown",
      "metadata": {
        "id": "TemEJtdGLT_6"
      },
      "source": [
        "**Matriks Nol**"
      ]
    },
    {
      "cell_type": "code",
      "metadata": {
        "id": "I3z4M7VjLXG7",
        "outputId": "370a490b-1440-4b14-840d-36bd623b5647",
        "colab": {
          "base_uri": "https://localhost:8080/"
        }
      },
      "source": [
        "MatriksNol=np.zeros(10)\n",
        "MatriksNol"
      ],
      "execution_count": null,
      "outputs": [
        {
          "output_type": "execute_result",
          "data": {
            "text/plain": [
              "array([0., 0., 0., 0., 0., 0., 0., 0., 0., 0.])"
            ]
          },
          "metadata": {
            "tags": []
          },
          "execution_count": 44
        }
      ]
    },
    {
      "cell_type": "markdown",
      "metadata": {
        "id": "SkbcAlZMLpnt"
      },
      "source": [
        "**Matriks Segitiga Atas dan Bawah**"
      ]
    },
    {
      "cell_type": "code",
      "metadata": {
        "id": "g8j6_lblLtGh",
        "outputId": "14c2ce3d-0ee5-497c-95cb-351a4dd98e3e",
        "colab": {
          "base_uri": "https://localhost:8080/"
        }
      },
      "source": [
        "M=np.array([[1,2,3],[4,5,6],[7,8,9]])\n",
        "M"
      ],
      "execution_count": null,
      "outputs": [
        {
          "output_type": "execute_result",
          "data": {
            "text/plain": [
              "array([[1, 2, 3],\n",
              "       [4, 5, 6],\n",
              "       [7, 8, 9]])"
            ]
          },
          "metadata": {
            "tags": []
          },
          "execution_count": 47
        }
      ]
    },
    {
      "cell_type": "code",
      "metadata": {
        "id": "Z2v_amfdJnfs",
        "outputId": "c4ece30e-8a19-47de-e934-9ff839efade4",
        "colab": {
          "base_uri": "https://localhost:8080/"
        }
      },
      "source": [
        "Lower=np.tril(M, -1)\n",
        "Lower"
      ],
      "execution_count": null,
      "outputs": [
        {
          "output_type": "execute_result",
          "data": {
            "text/plain": [
              "array([[0, 0, 0],\n",
              "       [4, 0, 0],\n",
              "       [7, 8, 0]])"
            ]
          },
          "metadata": {
            "tags": []
          },
          "execution_count": 46
        }
      ]
    },
    {
      "cell_type": "code",
      "metadata": {
        "id": "H7VOyQu9LyIx",
        "outputId": "c712a174-2894-4a27-9eee-b1727e0404b5",
        "colab": {
          "base_uri": "https://localhost:8080/"
        }
      },
      "source": [
        "Upper=np.triu(M, 1)\n",
        "Upper"
      ],
      "execution_count": null,
      "outputs": [
        {
          "output_type": "execute_result",
          "data": {
            "text/plain": [
              "array([[0, 2, 3],\n",
              "       [0, 0, 6],\n",
              "       [0, 0, 0]])"
            ]
          },
          "metadata": {
            "tags": []
          },
          "execution_count": 48
        }
      ]
    },
    {
      "cell_type": "markdown",
      "metadata": {
        "id": "VZf6Qt8yQHZs"
      },
      "source": [
        "**Matriks Dekomposisi LU**"
      ]
    },
    {
      "cell_type": "code",
      "metadata": {
        "id": "0R3uE3MLQFQq",
        "outputId": "506b810d-2f23-4411-b05b-619e692b0928",
        "colab": {
          "base_uri": "https://localhost:8080/"
        }
      },
      "source": [
        "import numpy as np\n",
        "import scipy.linalg as la\n",
        "np.set_printoptions(suppress=True)\n",
        "\n",
        "P, L, U = la.lu(A)\n",
        "print(P)\n",
        "\n",
        "print(L)\n",
        "\n",
        "print(U)"
      ],
      "execution_count": null,
      "outputs": [
        {
          "output_type": "stream",
          "text": [
            "[[0. 0. 1.]\n",
            " [0. 1. 0.]\n",
            " [1. 0. 0.]]\n",
            "[[1.         0.         0.        ]\n",
            " [0.7        1.         0.        ]\n",
            " [0.2        0.51612903 1.        ]]\n",
            "[[10.          7.          8.        ]\n",
            " [ 0.          3.1         3.4       ]\n",
            " [ 0.          0.          0.64516129]]\n"
          ],
          "name": "stdout"
        }
      ]
    },
    {
      "cell_type": "markdown",
      "metadata": {
        "id": "Xr2lxk38N0Dq"
      },
      "source": [
        "# **Membangun Matriks Menggunakan Perulangan**"
      ]
    },
    {
      "cell_type": "code",
      "metadata": {
        "id": "rP1YAVs_f4zp",
        "outputId": "6043ba13-898d-4dcf-a303-d06da3cbf53e",
        "colab": {
          "base_uri": "https://localhost:8080/"
        }
      },
      "source": [
        "C = np.arange(0,10,1)\n",
        "C"
      ],
      "execution_count": null,
      "outputs": [
        {
          "output_type": "execute_result",
          "data": {
            "text/plain": [
              "array([0, 1, 2, 3, 4, 5, 6, 7, 8, 9])"
            ]
          },
          "metadata": {
            "tags": []
          },
          "execution_count": 50
        }
      ]
    },
    {
      "cell_type": "code",
      "metadata": {
        "id": "hhobPmFhKC1D",
        "outputId": "98dd8f1c-dceb-4f06-8aa3-522a1cd57e47",
        "colab": {
          "base_uri": "https://localhost:8080/"
        }
      },
      "source": [
        "C**2"
      ],
      "execution_count": null,
      "outputs": [
        {
          "output_type": "execute_result",
          "data": {
            "text/plain": [
              "array([ 0,  1,  4,  9, 16, 25, 36, 49, 64, 81])"
            ]
          },
          "metadata": {
            "tags": []
          },
          "execution_count": 51
        }
      ]
    },
    {
      "cell_type": "code",
      "metadata": {
        "id": "MO7CDnEpJ_SB",
        "outputId": "6df3beab-8fcf-4fbe-a067-2658e4461222",
        "colab": {
          "base_uri": "https://localhost:8080/"
        }
      },
      "source": [
        "L = []\n",
        "for i in C:\n",
        "  L.append(i+1)\n",
        "L"
      ],
      "execution_count": null,
      "outputs": [
        {
          "output_type": "execute_result",
          "data": {
            "text/plain": [
              "[1, 2, 3, 4, 5, 6, 7, 8, 9, 10]"
            ]
          },
          "metadata": {
            "tags": []
          },
          "execution_count": 55
        }
      ]
    },
    {
      "cell_type": "code",
      "metadata": {
        "id": "LTHoQPgijfR9",
        "outputId": "22c1dd2f-8385-449a-ba71-b0275ef91631",
        "colab": {
          "base_uri": "https://localhost:8080/"
        }
      },
      "source": [
        "arr = []\n",
        "\n",
        "A=np.zeros([3,4])\n",
        "baris, kolom = np.shape(A)\n",
        "print(baris)\n",
        "print(kolom)\n",
        "print(A)\n",
        "arr=[]\n",
        "for i in range(baris):\n",
        "    arr.append([])\n",
        "    print(arr)\n",
        "    for j in range(kolom):\n",
        "        arr[i].append((i+j)*2)\n",
        "        print(arr)\n",
        "print(np.array(arr))"
      ],
      "execution_count": null,
      "outputs": [
        {
          "output_type": "stream",
          "text": [
            "3\n",
            "4\n",
            "[[0. 0. 0. 0.]\n",
            " [0. 0. 0. 0.]\n",
            " [0. 0. 0. 0.]]\n",
            "[[]]\n",
            "[[0]]\n",
            "[[0, 2]]\n",
            "[[0, 2, 4]]\n",
            "[[0, 2, 4, 6]]\n",
            "[[0, 2, 4, 6], []]\n",
            "[[0, 2, 4, 6], [2]]\n",
            "[[0, 2, 4, 6], [2, 4]]\n",
            "[[0, 2, 4, 6], [2, 4, 6]]\n",
            "[[0, 2, 4, 6], [2, 4, 6, 8]]\n",
            "[[0, 2, 4, 6], [2, 4, 6, 8], []]\n",
            "[[0, 2, 4, 6], [2, 4, 6, 8], [4]]\n",
            "[[0, 2, 4, 6], [2, 4, 6, 8], [4, 6]]\n",
            "[[0, 2, 4, 6], [2, 4, 6, 8], [4, 6, 8]]\n",
            "[[0, 2, 4, 6], [2, 4, 6, 8], [4, 6, 8, 10]]\n",
            "[[ 0  2  4  6]\n",
            " [ 2  4  6  8]\n",
            " [ 4  6  8 10]]\n"
          ],
          "name": "stdout"
        }
      ]
    }
  ]
}