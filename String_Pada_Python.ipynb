{
  "nbformat": 4,
  "nbformat_minor": 0,
  "metadata": {
    "colab": {
      "name": "String Pada Python.ipynb",
      "provenance": [],
      "collapsed_sections": [
        "XQLfbQFQEVmu",
        "vagnEyfWHADQ",
        "2LQPMzQAKilR",
        "kIXBHAk3f_KI",
        "whJkJ80wg4ri",
        "xMzqxUejkZrt",
        "P8NnekdTGMh9",
        "y-DOox5dndFL",
        "goEziMRaop2n",
        "p_8BudcBuNRK",
        "HENcWNGouzZQ",
        "TaxVOjwbvc6k"
      ],
      "include_colab_link": true
    },
    "kernelspec": {
      "name": "python3",
      "display_name": "Python 3"
    }
  },
  "cells": [
    {
      "cell_type": "markdown",
      "metadata": {
        "id": "view-in-github",
        "colab_type": "text"
      },
      "source": [
        "<a href=\"https://colab.research.google.com/github/eliyanto29/Hobi-Data-Youtube-Channel/blob/main/String_Pada_Python.ipynb\" target=\"_parent\"><img src=\"https://colab.research.google.com/assets/colab-badge.svg\" alt=\"Open In Colab\"/></a>"
      ]
    },
    {
      "cell_type": "markdown",
      "metadata": {
        "id": "kSRgp0-NEieR"
      },
      "source": [
        "![alt text](https://drive.google.com/uc?id=1tFIE1xP8ByE0gREyqnkLwZXOWLMNBzxA\n",
        ")"
      ]
    },
    {
      "cell_type": "markdown",
      "metadata": {
        "id": "tBeAa6tHFLBP"
      },
      "source": [
        "Assalamualaikum warahmatullahi wabarakatuh.\n",
        "\n",
        "***Robbi Zidni Ilma Warzuqni Fahma***\n",
        "\n",
        "Semoga Allah memberi kemudahan untuk kita memperoleh ilmu yang bermanfaat.\n",
        "\n",
        "## **Hasil Yang Ingin Dicapai**\n",
        "1. Memahami String Pada Python\n",
        "4. Mengenal dan memahami method-method pada String Python\n",
        "\n",
        "### ***!!!***\n",
        "\n",
        "***Sebelum memulai mempelajari notebook ini, jangan lupa untuk menyalinnya di drive masing-masing ya.***\n",
        "\n",
        "### ***!!!***\n"
      ]
    },
    {
      "cell_type": "markdown",
      "metadata": {
        "id": "K-85e962443K"
      },
      "source": [
        "# **String pada Python**\n"
      ]
    },
    {
      "cell_type": "markdown",
      "metadata": {
        "id": "3U8ND-Ft5ZII"
      },
      "source": [
        "## *String Literals*\n",
        "####String literal dalam python diapit oleh tanda kutip tunggal, atau tanda kutip ganda\n",
        "####'Buku' = \"Buku\" dalam python ini sama saja\n",
        "####Anda dapat menampilkan literal string dengan fungsi print ():\n"
      ]
    },
    {
      "cell_type": "code",
      "metadata": {
        "id": "StGvS-Ey1bLX",
        "outputId": "9a6e8dda-2f20-4b71-ff91-a8fd6c481f27",
        "colab": {
          "base_uri": "https://localhost:8080/",
          "height": 51
        }
      },
      "source": [
        "#Contoh :\n",
        "print(\"Hello\")\n",
        "print('Hello')"
      ],
      "execution_count": null,
      "outputs": [
        {
          "output_type": "stream",
          "text": [
            "Hello\n",
            "Hello\n"
          ],
          "name": "stdout"
        }
      ]
    },
    {
      "cell_type": "markdown",
      "metadata": {
        "id": "-aatCBuO95wP"
      },
      "source": [
        "Expected output:\n",
        "```\n",
        "Hello\n",
        "Hello\n",
        "```"
      ]
    },
    {
      "cell_type": "code",
      "metadata": {
        "id": "E7xhLyI_D5dE"
      },
      "source": [
        "#Mulai Program mu....^_^\n",
        "print(\"\")\n",
        "print('')"
      ],
      "execution_count": null,
      "outputs": []
    },
    {
      "cell_type": "markdown",
      "metadata": {
        "id": "uW2Ii3iL9Fbb"
      },
      "source": [
        "## *Assign String to a Variable*\n",
        "####Menetapkan string ke variabel dilakukan dengan nama variabel diikuti dengan tanda sama dengan dan stringnya:"
      ]
    },
    {
      "cell_type": "code",
      "metadata": {
        "id": "HPvNIIOv93Uj"
      },
      "source": [
        "#Contoh\n",
        "a = \"Hello\"\n",
        "print(a)"
      ],
      "execution_count": null,
      "outputs": []
    },
    {
      "cell_type": "markdown",
      "metadata": {
        "id": "Rgf7Zdk2-cma"
      },
      "source": [
        "Expected output:\n",
        "```\n",
        "Hello\n",
        "```\n",
        "Penjelasan :\n",
        "a adalah variabel\n",
        "kemudian diikuti tanda samadengan =\n",
        "kemudian masukkan nilai berupa string yaitu \"Hello\""
      ]
    },
    {
      "cell_type": "code",
      "metadata": {
        "id": "XnW_XFWCEU_Y"
      },
      "source": [
        "#Mulai Program mu....^_^\n",
        "\n"
      ],
      "execution_count": null,
      "outputs": []
    },
    {
      "cell_type": "markdown",
      "metadata": {
        "id": "eYAdwdwp_o_M"
      },
      "source": [
        "## *Multiline Strings*\n",
        "####Kita dapat menetapkan string multiline ke variabel dengan menggunakan tiga tanda kutip:"
      ]
    },
    {
      "cell_type": "code",
      "metadata": {
        "id": "KqKBqkEFAv-e"
      },
      "source": [
        "#Contoh 1\n",
        "a = '''PSDS adalah kelompok studi Data Science\n",
        "yang dibentuk oleh mahasiswa\n",
        "program studi Matematika.'''\n",
        "print(a)"
      ],
      "execution_count": null,
      "outputs": []
    },
    {
      "cell_type": "markdown",
      "metadata": {
        "id": "HoKPF7srDzRN"
      },
      "source": [
        "Expected output:\n",
        "```\n",
        "PSDS adalah kelompok studi Data Science\n",
        "yang dibentuk oleh mahasiswa\n",
        "program studi Matematika.\n",
        "\n",
        "```"
      ]
    },
    {
      "cell_type": "code",
      "metadata": {
        "id": "VowpERdPEsQJ"
      },
      "source": [
        "#Mulai Program mu....^_^\n",
        "\n",
        "\n"
      ],
      "execution_count": null,
      "outputs": []
    },
    {
      "cell_type": "markdown",
      "metadata": {
        "id": "lTmDSoYcB0Gb"
      },
      "source": [
        "Kita bisa juga menggunakan double tanda kutip, misal : ```\"\"\"stringnya\"\"\"```"
      ]
    },
    {
      "cell_type": "code",
      "metadata": {
        "id": "SJRPjO1PBNZF"
      },
      "source": [
        "#Contoh 2\n",
        "a = \"\"\"PSDS adalah kelompok studi Data Science\n",
        "yang dibentuk oleh mahasiswa\n",
        "program studi Matematika.\"\"\"\n",
        "print(a)\n",
        "#Hasilnya, jeda baris disisipkan pada posisi yang sama seperti pada kode."
      ],
      "execution_count": null,
      "outputs": []
    },
    {
      "cell_type": "markdown",
      "metadata": {
        "id": "Sy-1uZquD-02"
      },
      "source": [
        "Expected output:\n",
        "```\n",
        "PSDS adalah kelompok studi Data Science\n",
        "yang dibentuk oleh mahasiswa\n",
        "program studi Matematika.\n",
        "```\n",
        "\n",
        "Penjelasan : jeda baris disisipkan pada posisi yang sama seperti pada kode."
      ]
    },
    {
      "cell_type": "code",
      "metadata": {
        "id": "-vth3zQNFEZ3"
      },
      "source": [
        "#Mulai Program mu....^_^\n",
        "\n",
        "\n",
        "\n"
      ],
      "execution_count": null,
      "outputs": []
    },
    {
      "cell_type": "markdown",
      "metadata": {
        "id": "XQLfbQFQEVmu"
      },
      "source": [
        "## *Strings are Arrays*\n",
        "####Seperti banyak bahasa pemrograman populer lainnya, string dalam Python adalah array byte yang mewakili karakter unicode.\n",
        "####Namun, Python tidak memiliki tipe data karakter, satu karakter hanyalah string dengan panjang 1\n",
        "####Tanda kurung siku dapat digunakan untuk mengakses elemen string."
      ]
    },
    {
      "cell_type": "code",
      "metadata": {
        "id": "VqY0-8FUCPBf"
      },
      "source": [
        "#Contoh\n",
        "a = \"Hello, World!\"\n",
        "print(a[1])"
      ],
      "execution_count": null,
      "outputs": []
    },
    {
      "cell_type": "markdown",
      "metadata": {
        "id": "nPN1G_m9GhQZ"
      },
      "source": [
        "Expected output:\n",
        "```\n",
        "e\n",
        "```\n",
        "Penjelasan : Dapatkan karakter di posisi 1 (ingat bahwa karakter pertama memiliki posisi 0):\n",
        "\n"
      ]
    },
    {
      "cell_type": "code",
      "metadata": {
        "id": "8t036hewYZzW"
      },
      "source": [
        "#Mulai Program mu....^_^\n",
        "\n"
      ],
      "execution_count": null,
      "outputs": []
    },
    {
      "cell_type": "markdown",
      "metadata": {
        "id": "vagnEyfWHADQ"
      },
      "source": [
        "## *Slicing*\n",
        "####Anda dapat mengembalikan berbagai karakter dengan menggunakan sintaksis slice.\n",
        "####Tentukan indeks awal dan indeks akhir, dipisahkan oleh titik dua, untuk mengembalikan bagian dari string."
      ]
    },
    {
      "cell_type": "code",
      "metadata": {
        "id": "kvukrxjxIN1s"
      },
      "source": [
        "#Contoh :\n",
        "b = \"Hello, World!\"\n",
        "print(b[2:5])\n",
        "#Dapatkan karakter dari posisi 2 ke posisi 5 (tidak termasuk):"
      ],
      "execution_count": null,
      "outputs": []
    },
    {
      "cell_type": "markdown",
      "metadata": {
        "id": "tvz7WZHdKQgH"
      },
      "source": [
        "Expected output:\n",
        "```\n",
        "llo\n",
        "```"
      ]
    },
    {
      "cell_type": "code",
      "metadata": {
        "id": "M4geTGseYgmQ"
      },
      "source": [
        "#Mulai Program mu....^_^\n",
        "\n",
        "\n"
      ],
      "execution_count": null,
      "outputs": []
    },
    {
      "cell_type": "markdown",
      "metadata": {
        "id": "2LQPMzQAKilR"
      },
      "source": [
        "## *Negative Indexing*\n",
        "Gunakan indeks negatif untuk memulai potongan dari ujung string:"
      ]
    },
    {
      "cell_type": "code",
      "metadata": {
        "id": "n2yD3tJ4LG93"
      },
      "source": [
        "#Contoh\n",
        "b = \"Hello, World!\"\n",
        "print(b[-5:-2])\n",
        "#Dapatkan karakter dari posisi 5 ke posisi 1 (tidak termasuk), mulai hitungan dari akhir string:"
      ],
      "execution_count": null,
      "outputs": []
    },
    {
      "cell_type": "markdown",
      "metadata": {
        "id": "nlzaUPw2Mkwr"
      },
      "source": [
        "Expected output:\n",
        "```\n",
        "orl\n",
        "```"
      ]
    },
    {
      "cell_type": "code",
      "metadata": {
        "id": "InprXyehZUUk"
      },
      "source": [
        "#Mulai Program mu....^_^\n",
        "\n"
      ],
      "execution_count": null,
      "outputs": []
    },
    {
      "cell_type": "code",
      "metadata": {
        "id": "A7Z1cnl2ekma"
      },
      "source": [
        "#Contoh\n",
        "a = \"Hello, World!\"\n",
        "print(len(a))\n",
        "#Fungsi len () mengembalikan panjang string:"
      ],
      "execution_count": null,
      "outputs": []
    },
    {
      "cell_type": "markdown",
      "metadata": {
        "id": "I7o2xNSJpQxD"
      },
      "source": [
        "Expected Output :\n",
        "```\n",
        "13\n",
        "```"
      ]
    },
    {
      "cell_type": "code",
      "metadata": {
        "id": "-axqRlaqZY8x"
      },
      "source": [
        "#Mulai Program mu....^_^\n",
        "\n"
      ],
      "execution_count": null,
      "outputs": []
    },
    {
      "cell_type": "markdown",
      "metadata": {
        "id": "kIXBHAk3f_KI"
      },
      "source": [
        "## *Check String*\n",
        "Untuk memeriksa apakah frase atau karakter tertentu ada dalam sebuah string, kita dapat menggunakan kata kunci in atau not in"
      ]
    },
    {
      "cell_type": "code",
      "metadata": {
        "id": "aHqLK3vHfzQS"
      },
      "source": [
        "#Contoh 1\n",
        "#Periksa apakah frase \"ain\" ada dalam teks berikut:\n",
        "txt = \"Hujan di Spanyol umumnya tetap di dataran\"\n",
        "x = \"jan\" in txt\n",
        "print(x)"
      ],
      "execution_count": null,
      "outputs": []
    },
    {
      "cell_type": "markdown",
      "metadata": {
        "id": "EvjnqufLpcwD"
      },
      "source": [
        "Expected Output :\n",
        "```\n",
        "True\n",
        "```"
      ]
    },
    {
      "cell_type": "code",
      "metadata": {
        "id": "oXIdUm4lZk0b"
      },
      "source": [
        "#Mulai Program mu....^_^\n",
        "\n",
        "\n"
      ],
      "execution_count": null,
      "outputs": []
    },
    {
      "cell_type": "code",
      "metadata": {
        "id": "fgyz-8kHgiC8"
      },
      "source": [
        "#Contoh\n",
        "#Periksa apakah frase \"ain\" TIDAK ada dalam teks berikut:\n",
        "txt = \"Hujan di Spanyol umumnya tetap di dataran\"\n",
        "x = \"jan\" not in txt\n",
        "print(x) "
      ],
      "execution_count": null,
      "outputs": []
    },
    {
      "cell_type": "markdown",
      "metadata": {
        "id": "gEzY_18PplCV"
      },
      "source": [
        "Expected Output :\n",
        "```\n",
        "False\n",
        "```"
      ]
    },
    {
      "cell_type": "code",
      "metadata": {
        "id": "3xsC0rt2ZrPa"
      },
      "source": [
        "#Mulai Program mu....^_^\n",
        "\n",
        "\n"
      ],
      "execution_count": null,
      "outputs": []
    },
    {
      "cell_type": "markdown",
      "metadata": {
        "id": "whJkJ80wg4ri"
      },
      "source": [
        "## *String Concatenation*\n",
        "Untuk menggabungkan, atau menggabungkan, dua string Anda dapat menggunakan operator +."
      ]
    },
    {
      "cell_type": "code",
      "metadata": {
        "id": "KcheDEPZhEUn"
      },
      "source": [
        "#Contoh\n",
        "#Gabungkan variabel a dengan variabel b menjadi variabel c\n",
        "a = \"Hello\"\n",
        "b = \"World\"\n",
        "c = a + b\n",
        "print(c)"
      ],
      "execution_count": null,
      "outputs": []
    },
    {
      "cell_type": "markdown",
      "metadata": {
        "id": "yzB_x6uvsgIx"
      },
      "source": [
        "Output :\n",
        "```\n",
        "HelloWorld\n",
        "```"
      ]
    },
    {
      "cell_type": "code",
      "metadata": {
        "id": "G0GMGTBgZ-f6"
      },
      "source": [
        "#Mulai Program mu....^_^\n",
        "\n",
        "\n",
        "\n"
      ],
      "execution_count": null,
      "outputs": []
    },
    {
      "cell_type": "code",
      "metadata": {
        "id": "_WYRHkRthc-y"
      },
      "source": [
        "#Contoh\n",
        "#Untuk menambahkan spasi di antara keduanya, tambahkan \" \":\n",
        "a = \"Hello\"\n",
        "b = \"World\"\n",
        "c = a + \" \" + b\n",
        "print(c)"
      ],
      "execution_count": null,
      "outputs": []
    },
    {
      "cell_type": "markdown",
      "metadata": {
        "id": "UgWS9_39stHi"
      },
      "source": [
        "Output :\n",
        "```\n",
        "Hello World\n",
        "```"
      ]
    },
    {
      "cell_type": "code",
      "metadata": {
        "id": "tgMo3eBoaE5r"
      },
      "source": [
        "#Mulai Program mu....\n",
        "\n",
        "\n"
      ],
      "execution_count": null,
      "outputs": []
    },
    {
      "cell_type": "markdown",
      "metadata": {
        "id": "4Fhyimgde2Mn"
      },
      "source": [
        "##**String Format**\n",
        "####Seperti yang kita pelajari di bab Variabel Python, kita tidak bisa menggabungkan string dan angka seperti ini:"
      ]
    },
    {
      "cell_type": "code",
      "metadata": {
        "id": "7L6XBNLejHsT"
      },
      "source": [
        "#Contoh\n",
        "umur = \"20\"\n",
        "txt = \"Nama saya Mujhid, saya \" + umur\n",
        "print(txt)"
      ],
      "execution_count": null,
      "outputs": []
    },
    {
      "cell_type": "markdown",
      "metadata": {
        "id": "IyDYFm-5s4w8"
      },
      "source": [
        "Output :\n",
        "```\n",
        "Nama saya Mujhid, saya 20\n",
        "```"
      ]
    },
    {
      "cell_type": "markdown",
      "metadata": {
        "id": "xMzqxUejkZrt"
      },
      "source": [
        "Tapi kita bisa menggabungkan string dan angka dengan menggunakan metode format ()!\n",
        "\n",
        "Metode format () mengambil argumen yang diteruskan, memformatnya, dan menempatkannya dalam string di mana placeholder {} berada:"
      ]
    },
    {
      "cell_type": "markdown",
      "metadata": {
        "id": "-7gLLgzqe2Mx"
      },
      "source": [
        "# *Berbagai Method untuk String pada Python*\n",
        "\n",
        "Python memiliki seperangkat metode bawaan yang dapat Anda gunakan pada string."
      ]
    },
    {
      "cell_type": "markdown",
      "metadata": {
        "id": "P8NnekdTGMh9"
      },
      "source": [
        "### Strip()\n",
        "\n",
        "Method strip() berfungsi untuk menghapus spasi apa pun dari awal atau akhir"
      ]
    },
    {
      "cell_type": "code",
      "metadata": {
        "id": "adhHBCCIfCRV"
      },
      "source": [
        "#Contoh\n",
        "a = \" Hello, World! \"\n",
        "print(a.strip()) # returns \"Hello, World!\""
      ],
      "execution_count": null,
      "outputs": []
    },
    {
      "cell_type": "markdown",
      "metadata": {
        "id": "Qeo6pBGotbxk"
      },
      "source": [
        "Output :\n",
        "```\n",
        "Hello, World!\n",
        "```"
      ]
    },
    {
      "cell_type": "code",
      "metadata": {
        "id": "bnhTYGQEAytD"
      },
      "source": [
        "#Mulai Program Mu....\n",
        "\n"
      ],
      "execution_count": null,
      "outputs": []
    },
    {
      "cell_type": "markdown",
      "metadata": {
        "id": "y-DOox5dndFL"
      },
      "source": [
        "###Lower()\n",
        "#####Metode lower () mengembalikan string dalam huruf kecil:"
      ]
    },
    {
      "cell_type": "code",
      "metadata": {
        "id": "D_ST04cMewvV"
      },
      "source": [
        "#Contoh\n",
        "a = \"HELLO, World!\"\n",
        "print(a.lower())"
      ],
      "execution_count": null,
      "outputs": []
    },
    {
      "cell_type": "markdown",
      "metadata": {
        "id": "4rtfR-MQtv1z"
      },
      "source": [
        "Output :\n",
        "```\n",
        "hello, world!\n",
        "```"
      ]
    },
    {
      "cell_type": "markdown",
      "metadata": {
        "id": "goEziMRaop2n"
      },
      "source": [
        "###Upper()\n",
        "#####Metode upper() mengembalikan string dalam huruf besar:"
      ]
    },
    {
      "cell_type": "code",
      "metadata": {
        "id": "tORVzIurfiyq"
      },
      "source": [
        "#Contoh\n",
        "a = \"Hello, World!\"\n",
        "print(a.upper())"
      ],
      "execution_count": null,
      "outputs": []
    },
    {
      "cell_type": "markdown",
      "metadata": {
        "id": "1d7SQJ3zt6M-"
      },
      "source": [
        "Output :\n",
        "```\n",
        "HELLO, WORLD!\n",
        "```"
      ]
    },
    {
      "cell_type": "markdown",
      "metadata": {
        "id": "p_8BudcBuNRK"
      },
      "source": [
        "###Replace()\n",
        "#####Metode replace () menggantikan string dengan string lain:"
      ]
    },
    {
      "cell_type": "code",
      "metadata": {
        "id": "KRCtERX-fsRL"
      },
      "source": [
        "#Contoh\n",
        "a = \"Hello, World!\"\n",
        "print(a.replace(\"H\", \"J\"))"
      ],
      "execution_count": null,
      "outputs": []
    },
    {
      "cell_type": "markdown",
      "metadata": {
        "id": "HoBM7TssuDC0"
      },
      "source": [
        "Output :\n",
        "```\n",
        "Jello, World!\n",
        "```"
      ]
    },
    {
      "cell_type": "markdown",
      "metadata": {
        "id": "HENcWNGouzZQ"
      },
      "source": [
        "###Split()\n",
        "#####Metode split () membagi string menjadi beberapa substring jika menemukan contoh pemisah:"
      ]
    },
    {
      "cell_type": "code",
      "metadata": {
        "id": "lZOPF8zNfzUz"
      },
      "source": [
        "#Contoh\n",
        "a = \"Hello, World!\"\n",
        "print(a.split(\",\")) # returns ['Hello', ' World!']"
      ],
      "execution_count": null,
      "outputs": []
    },
    {
      "cell_type": "markdown",
      "metadata": {
        "id": "7nCtdk1Du-m8"
      },
      "source": [
        "Output :\n",
        "```\n",
        "['Hello', ' World!']\n",
        "```"
      ]
    },
    {
      "cell_type": "markdown",
      "metadata": {
        "id": "TaxVOjwbvc6k"
      },
      "source": [
        "###Capitalize()\n",
        "#####Metode capitalize () menggantikan karakter pertama menjadi huruf apital"
      ]
    },
    {
      "cell_type": "code",
      "metadata": {
        "id": "AKCjwL5pu6uA"
      },
      "source": [
        "#Contoh\n",
        "a = \"hello, world\"\n",
        "print(a.capitalize())"
      ],
      "execution_count": null,
      "outputs": []
    },
    {
      "cell_type": "markdown",
      "metadata": {
        "id": "2aTzRqgzwcd-"
      },
      "source": [
        "Output :\n",
        "```\n",
        "Hello, world\n",
        "```"
      ]
    },
    {
      "cell_type": "markdown",
      "metadata": {
        "id": "lFk8jkgTw7Qc"
      },
      "source": [
        "###Casefold()\n",
        "#####Metode casefold () Mengubah string menjadi huruf kecil"
      ]
    },
    {
      "cell_type": "code",
      "metadata": {
        "id": "rqUVI0_QwQ9M",
        "outputId": "8d8cab65-61d8-4a29-9bdd-fd08c0bf144a",
        "colab": {
          "base_uri": "https://localhost:8080/"
        }
      },
      "source": [
        "#Contoh\n",
        "a = \"Hello, World\"\n",
        "print(a.casefold())"
      ],
      "execution_count": null,
      "outputs": [
        {
          "output_type": "stream",
          "text": [
            "hello, world\n"
          ],
          "name": "stdout"
        }
      ]
    },
    {
      "cell_type": "markdown",
      "metadata": {
        "id": "uOJqg_Hhx7jM"
      },
      "source": [
        "###Count()\n",
        "#####Metode count () Mengembalikan frekuensi nilai yang ditentukan muncul dalam string"
      ]
    },
    {
      "cell_type": "code",
      "metadata": {
        "id": "X0BxqrG6zC3j"
      },
      "source": [
        "# definiskan string\n",
        "string = \"Python is awesome, isn't it?\"\n",
        "substring = \"is\"\n",
        "\n",
        "count = string.count(substring)\n",
        "\n",
        "# print count\n",
        "print(\"Jumlah :\", count)"
      ],
      "execution_count": null,
      "outputs": []
    },
    {
      "cell_type": "markdown",
      "metadata": {
        "id": "c-107cVfCt-f"
      },
      "source": [
        "Output :\n",
        "```\n",
        "Jumlah : 2\n",
        "```"
      ]
    },
    {
      "cell_type": "markdown",
      "metadata": {
        "id": "TK1BWNfmNmg9"
      },
      "source": [
        "###Encode()\n",
        "#####Metode encode () mengembalikan string yang berada di tengah"
      ]
    },
    {
      "cell_type": "code",
      "metadata": {
        "id": "Z3vdoZsq76n7",
        "outputId": "79819789-9a7b-4559-903f-8e4fc6f17cf0",
        "colab": {
          "base_uri": "https://localhost:8080/"
        }
      },
      "source": [
        "a = \"My name is Mujhid\"\n",
        "\n",
        "x = a.encode()\n",
        "\n",
        "print(x)"
      ],
      "execution_count": null,
      "outputs": [
        {
          "output_type": "stream",
          "text": [
            "b'My name Mujhid'\n"
          ],
          "name": "stdout"
        }
      ]
    },
    {
      "cell_type": "markdown",
      "metadata": {
        "id": "qPgAcs3q03rJ"
      },
      "source": [
        "###Swapcase()\n",
        "#####Metode swapcase () untuk menukar kasus, huruf kecil menjadi huruf besar dan sebaliknya"
      ]
    },
    {
      "cell_type": "code",
      "metadata": {
        "id": "1aogmteyOBqW"
      },
      "source": [
        "a = \"My Name is Mujhid\"\n",
        "\n",
        "x = a.swapcase()\n",
        "\n",
        "print(x)"
      ],
      "execution_count": null,
      "outputs": []
    },
    {
      "cell_type": "markdown",
      "metadata": {
        "id": "NygjfmV-GP04"
      },
      "source": [
        "Output :\n",
        "```\n",
        "mY nAME IS mUJHID\n",
        "```"
      ]
    }
  ]
}